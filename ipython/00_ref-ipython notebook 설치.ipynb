{
 "cells": [
  {
   "cell_type": "markdown",
   "metadata": {},
   "source": [
    "# ipython notebook 설치하기\n",
    "\n",
    "- 설치 환경: Ubuntu 14.04.2 LTS\n",
    "- Python 버전: 2.7.6\n",
    "\n",
    "\n",
    "### 1. pip를 설치한다.\n",
    " $ sudo apt-get install -y python-pip\n",
    "\n",
    "### 2. ipython notebook 설치에 의존성있는 python-dev 라이브러리를 설치한다.\n",
    " $ sudo apt-get install python-dev\n",
    "\n",
    "### 3. (option) virtualenv를 설치한다.\n",
    "- 설치를 하지 않아도 관계없으나, 이렇게 할 경우 가상 환경을 만들어 해당 환경에만 python 패키지 파일을 관리하므로 python 패키지 삭제/이동 등에 있어 매우 편리하다.\n",
    "\n",
    "\n",
    " $ sudo apt-get install -y python-virtualenv\n",
    "\n",
    "### 4. virtualenv 환경을 만들고 이동한다.\n",
    " \n",
    " $ virtualenv env\n",
    " \n",
    " $ source env/bin/activate\n",
    "\n",
    "### 5. pip로 \"ipython[notebook]\"을 설치한다.\n",
    "\n",
    " $ pip install \"ipython[notebook]\"\n",
    "\n",
    "### 6. ipython-notebook을 실행한다.\n",
    " $ ipython notebook\n"
   ]
  },
  {
   "cell_type": "code",
   "execution_count": null,
   "metadata": {
    "collapsed": true
   },
   "outputs": [],
   "source": []
  }
 ],
 "metadata": {
  "kernelspec": {
   "display_name": "Python 2",
   "language": "python",
   "name": "python2"
  },
  "language_info": {
   "codemirror_mode": {
    "name": "ipython",
    "version": 2
   },
   "file_extension": ".py",
   "mimetype": "text/x-python",
   "name": "python",
   "nbconvert_exporter": "python",
   "pygments_lexer": "ipython2",
   "version": "2.7.6"
  }
 },
 "nbformat": 4,
 "nbformat_minor": 0
}
