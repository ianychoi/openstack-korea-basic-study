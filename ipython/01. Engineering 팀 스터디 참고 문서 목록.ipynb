{
 "cells": [
  {
   "cell_type": "markdown",
   "metadata": {},
   "source": [
    "# 목록 (현재 정리 중)\n",
    "\n",
    "- SR-IOV 개념 관련\n",
    " - http://m.blog.daum.net/sunwookim77/104\n",
    "- VMware vSphere\n",
    " - http://docs.openstack.org/kilo/config-reference/content/vmware.html\n",
    "- Intel SR-IOV explanation (shared from Nicholas)\n",
    " - https://www.evernote.com/shard/s15/sh/0abea56b-dfe6-4c98-aeb7-c36db462e542/5aa8078d5cdaf049af0a95066cbb0c25\n",
    "- OpenStack HA Guide\n",
    " - http://docs.openstack.org/high-availability-guide/content/ch_preface.html\n",
    "- ..."
   ]
  }
 ],
 "metadata": {
  "kernelspec": {
   "display_name": "Python 2",
   "language": "python",
   "name": "python2"
  },
  "language_info": {
   "codemirror_mode": {
    "name": "ipython",
    "version": 2
   },
   "file_extension": ".py",
   "mimetype": "text/x-python",
   "name": "python",
   "nbconvert_exporter": "python",
   "pygments_lexer": "ipython2",
   "version": "2.7.6"
  }
 },
 "nbformat": 4,
 "nbformat_minor": 0
}
